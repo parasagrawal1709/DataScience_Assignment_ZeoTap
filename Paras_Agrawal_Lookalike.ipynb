{
 "cells": [
  {
   "cell_type": "code",
   "execution_count": 6,
   "id": "7117ce87",
   "metadata": {},
   "outputs": [],
   "source": [
    "# Import required libraries\n",
    "import pandas as pd\n",
    "import numpy as np\n",
    "from sklearn.preprocessing import StandardScaler\n",
    "from datetime import datetime\n",
    "import warnings\n",
    "warnings.filterwarnings('ignore')"
   ]
  },
  {
   "cell_type": "code",
   "execution_count": 11,
   "id": "8b55bf5f",
   "metadata": {},
   "outputs": [],
   "source": [
    "# Read the Excel file\n",
    "customers_df = pd.read_csv('Customers.csv')\n",
    "products_df = pd.read_csv('Products.csv')\n"
   ]
  },
  {
   "cell_type": "code",
   "execution_count": 12,
   "id": "79c6cce7",
   "metadata": {},
   "outputs": [
    {
     "name": "stdout",
     "output_type": "stream",
     "text": [
      "Customers Data:\n",
      "  CustomerID        CustomerName         Region  SignupDate\n",
      "0      C0001    Lawrence Carroll  South America  2022-07-10\n",
      "1      C0002      Elizabeth Lutz           Asia  2022-02-13\n",
      "2      C0003      Michael Rivera  South America  2024-03-07\n",
      "3      C0004  Kathleen Rodriguez  South America  2022-10-09\n",
      "4      C0005         Laura Weber           Asia  2022-08-15\n"
     ]
    }
   ],
   "source": [
    "print(\"Customers Data:\")\n",
    "print(customers_df.head())"
   ]
  },
  {
   "cell_type": "code",
   "execution_count": 13,
   "id": "0e08893d",
   "metadata": {},
   "outputs": [
    {
     "name": "stdout",
     "output_type": "stream",
     "text": [
      "Products Data:\n",
      "  ProductID              ProductName     Category   Price\n",
      "0      P001     ActiveWear Biography        Books  169.30\n",
      "1      P002    ActiveWear Smartwatch  Electronics  346.30\n",
      "2      P003  ComfortLiving Biography        Books   44.12\n",
      "3      P004            BookWorld Rug   Home Decor   95.69\n",
      "4      P005          TechPro T-Shirt     Clothing  429.31\n"
     ]
    }
   ],
   "source": [
    "print(\"\\\n",
    "Products Data:\")\n",
    "print(products_df.head())"
   ]
  },
  {
   "cell_type": "code",
   "execution_count": 14,
   "id": "e6e45fff",
   "metadata": {},
   "outputs": [],
   "source": [
    "# Preprocessing the data\n",
    "from sklearn.preprocessing import LabelEncoder"
   ]
  },
  {
   "cell_type": "code",
   "execution_count": 15,
   "id": "a0d22385",
   "metadata": {},
   "outputs": [],
   "source": [
    "# Encode categorical variables\n",
    "le_region = LabelEncoder()\n",
    "customers_df['Region_Encoded'] = le_region.fit_transform(customers_df['Region'])"
   ]
  },
  {
   "cell_type": "code",
   "execution_count": 16,
   "id": "5d870166",
   "metadata": {},
   "outputs": [],
   "source": [
    "# Convert SignupDate to numerical feature (days since signup)\n",
    "customers_df['SignupDate'] = pd.to_datetime(customers_df['SignupDate'])\n",
    "customers_df['DaysSinceSignup'] = (datetime.now() - customers_df['SignupDate']).dt.days"
   ]
  },
  {
   "cell_type": "code",
   "execution_count": 17,
   "id": "46c0b936",
   "metadata": {},
   "outputs": [],
   "source": [
    "# Drop unnecessary columns for modeling\n",
    "customers_features = customers_df[['CustomerID', 'Region_Encoded', 'DaysSinceSignup']]\n"
   ]
  },
  {
   "cell_type": "code",
   "execution_count": 18,
   "id": "4a8d70ff",
   "metadata": {},
   "outputs": [],
   "source": [
    "# Normalize numerical features\n",
    "scaler = StandardScaler()\n",
    "customers_features[['Region_Encoded', 'DaysSinceSignup']] = scaler.fit_transform(customers_features[['Region_Encoded', 'DaysSinceSignup']])"
   ]
  },
  {
   "cell_type": "code",
   "execution_count": 19,
   "id": "4a2d7f4e",
   "metadata": {},
   "outputs": [
    {
     "name": "stdout",
     "output_type": "stream",
     "text": [
      "Processed Customer Features:\n",
      "  CustomerID  Region_Encoded  DaysSinceSignup\n",
      "0      C0001        1.241384         1.152884\n",
      "1      C0002       -1.409258         1.605593\n",
      "2      C0003        1.241384        -0.713387\n",
      "3      C0004        1.241384         0.872636\n",
      "4      C0005       -1.409258         1.042017\n"
     ]
    }
   ],
   "source": [
    "print(\"Processed Customer Features:\")\n",
    "print(customers_features.head())"
   ]
  },
  {
   "cell_type": "code",
   "execution_count": 20,
   "id": "26d29c3e",
   "metadata": {},
   "outputs": [],
   "source": [
    "# Integrate product data for modeling\n",
    "# For simplicity, let's assume each customer has purchased products from all categories equally (mock data for now)\n",
    "# Create a mock transaction history by assigning random product categories to customers\n",
    "\n",
    "np.random.seed(42)  # For reproducibility\n",
    "categories = products_df['Category'].unique()"
   ]
  },
  {
   "cell_type": "code",
   "execution_count": 21,
   "id": "0d158fd4",
   "metadata": {},
   "outputs": [],
   "source": [
    "# Assign random product categories to customers\n",
    "customers_features['ProductCategory'] = np.random.choice(categories, size=len(customers_features))\n"
   ]
  },
  {
   "cell_type": "code",
   "execution_count": 22,
   "id": "8529aef4",
   "metadata": {},
   "outputs": [],
   "source": [
    "# Encode product categories\n",
    "le_category = LabelEncoder()\n",
    "customers_features['ProductCategory_Encoded'] = le_category.fit_transform(customers_features['ProductCategory'])"
   ]
  },
  {
   "cell_type": "code",
   "execution_count": 23,
   "id": "a5151199",
   "metadata": {},
   "outputs": [],
   "source": [
    "# Final feature set for similarity\n",
    "final_features = customers_features[['Region_Encoded', 'DaysSinceSignup', 'ProductCategory_Encoded']]"
   ]
  },
  {
   "cell_type": "code",
   "execution_count": 24,
   "id": "b86700d0",
   "metadata": {},
   "outputs": [
    {
     "name": "stdout",
     "output_type": "stream",
     "text": [
      "Final Features for Similarity Calculation:\n",
      "   Region_Encoded  DaysSinceSignup  ProductCategory_Encoded\n",
      "0        1.241384         1.152884                        3\n",
      "1       -1.409258         1.605593                        1\n",
      "2        1.241384        -0.713387                        0\n",
      "3        1.241384         0.872636                        3\n",
      "4       -1.409258         1.042017                        3\n"
     ]
    }
   ],
   "source": [
    "print(\"Final Features for Similarity Calculation:\")\n",
    "print(final_features.head())"
   ]
  },
  {
   "cell_type": "code",
   "execution_count": 25,
   "id": "5dbd3660",
   "metadata": {},
   "outputs": [],
   "source": [
    "# Compute similarity scores using cosine similarity\n",
    "from sklearn.metrics.pairwise import cosine_similarity"
   ]
  },
  {
   "cell_type": "code",
   "execution_count": 26,
   "id": "07a53a96",
   "metadata": {},
   "outputs": [],
   "source": [
    "# Calculate similarity matrix\n",
    "similarity_matrix = cosine_similarity(final_features)"
   ]
  },
  {
   "cell_type": "code",
   "execution_count": 27,
   "id": "a07a1166",
   "metadata": {},
   "outputs": [],
   "source": [
    "# Generate top 3 lookalike recommendations for the first 20 customers\n",
    "lookalike_map = {}\n",
    "for i in range(20):  # First 20 customers\n",
    "    customer_id = customers_features.iloc[i]['CustomerID']\n",
    "    similarities = list(enumerate(similarity_matrix[i]))\n",
    "    similarities = sorted(similarities, key=lambda x: x[1], reverse=True)  # Sort by similarity score\n",
    "    top_3 = [(customers_features.iloc[j[0]]['CustomerID'], j[1]) for j in similarities[1:4]]  # Exclude self\n",
    "    lookalike_map[customer_id] = top_3"
   ]
  },
  {
   "cell_type": "code",
   "execution_count": 28,
   "id": "d7af05ad",
   "metadata": {},
   "outputs": [],
   "source": [
    "# Convert to DataFrame for export\n",
    "lookalike_df = pd.DataFrame.from_dict(lookalike_map, orient='index', columns=['Lookalike1', 'Lookalike2', 'Lookalike3'])\n",
    "lookalike_df.reset_index(inplace=True)\n",
    "lookalike_df.rename(columns={'index': 'CustomerID'}, inplace=True)"
   ]
  },
  {
   "cell_type": "code",
   "execution_count": 29,
   "id": "2fa7e3fc",
   "metadata": {},
   "outputs": [],
   "source": [
    "# Save to CSV\n",
    "lookalike_df.to_csv('Paras_Agrawal_Lookalike.csv.csv', index=False)"
   ]
  },
  {
   "cell_type": "code",
   "execution_count": 30,
   "id": "6eabc1aa",
   "metadata": {},
   "outputs": [
    {
     "name": "stdout",
     "output_type": "stream",
     "text": [
      "Lookalike recommendations generated and saved to Paras_Agrawal_Lookalike.csv\n",
      "  CustomerID                   Lookalike1                   Lookalike2  \\\n",
      "0      C0001  (C0112, 0.9999968128364202)  (C0188, 0.9989996288742979)   \n",
      "1      C0002   (C0045, 0.999932712895011)  (C0175, 0.9980364994060891)   \n",
      "2      C0003  (C0137, 0.9982380713526587)  (C0031, 0.9980268400125786)   \n",
      "3      C0004  (C0192, 0.9997772380452074)  (C0011, 0.9983514186268675)   \n",
      "4      C0005  (C0173, 0.9990075248284113)  (C0141, 0.9962975016258887)   \n",
      "\n",
      "                    Lookalike3  \n",
      "0  (C0147, 0.9989629029048788)  \n",
      "1  (C0198, 0.9343632723650651)  \n",
      "2  (C0032, 0.9973284031694074)  \n",
      "3  (C0168, 0.9982988110301299)  \n",
      "4   (C0161, 0.992266070017548)  \n"
     ]
    }
   ],
   "source": [
    "print(\"Lookalike recommendations generated and saved to Paras_Agrawal_Lookalike.csv\")\n",
    "print(lookalike_df.head())"
   ]
  },
  {
   "cell_type": "code",
   "execution_count": null,
   "id": "fe03bb08",
   "metadata": {},
   "outputs": [],
   "source": []
  }
 ],
 "metadata": {
  "kernelspec": {
   "display_name": "Python 3 (ipykernel)",
   "language": "python",
   "name": "python3"
  },
  "language_info": {
   "codemirror_mode": {
    "name": "ipython",
    "version": 3
   },
   "file_extension": ".py",
   "mimetype": "text/x-python",
   "name": "python",
   "nbconvert_exporter": "python",
   "pygments_lexer": "ipython3",
   "version": "3.11.5"
  }
 },
 "nbformat": 4,
 "nbformat_minor": 5
}
